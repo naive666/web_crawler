{
 "cells": [
  {
   "cell_type": "code",
   "execution_count": 2,
   "metadata": {},
   "outputs": [],
   "source": [
    "import requests\n",
    "import urllib.request\n",
    "import urllib.parse\n",
    "from bs4 import BeautifulSoup\n",
    "import json\n",
    "from selenium import webdriver\n",
    "import time"
   ]
  },
  {
   "cell_type": "code",
   "execution_count": 9,
   "metadata": {},
   "outputs": [
    {
     "name": "stdout",
     "output_type": "stream",
     "text": [
      "上百万买了4辆货车，手续齐全牌照却不能上，车主实在想不明白！开始下载\n"
     ]
    },
    {
     "ename": "TypeError",
     "evalue": "'NoneType' object is not subscriptable",
     "output_type": "error",
     "traceback": [
      "\u001b[1;31m---------------------------------------------------------------------------\u001b[0m",
      "\u001b[1;31mTypeError\u001b[0m                                 Traceback (most recent call last)",
      "\u001b[1;32m<ipython-input-9-af8a14157341>\u001b[0m in \u001b[0;36m<module>\u001b[1;34m\u001b[0m\n\u001b[0;32m     73\u001b[0m \u001b[1;33m\u001b[0m\u001b[0m\n\u001b[0;32m     74\u001b[0m \u001b[1;32mif\u001b[0m \u001b[0m__name__\u001b[0m\u001b[1;33m==\u001b[0m\u001b[1;34m'__main__'\u001b[0m\u001b[1;33m:\u001b[0m\u001b[1;33m\u001b[0m\u001b[1;33m\u001b[0m\u001b[0m\n\u001b[1;32m---> 75\u001b[1;33m     \u001b[0mmain\u001b[0m\u001b[1;33m(\u001b[0m\u001b[1;33m)\u001b[0m\u001b[1;33m\u001b[0m\u001b[1;33m\u001b[0m\u001b[0m\n\u001b[0m",
      "\u001b[1;32m<ipython-input-9-af8a14157341>\u001b[0m in \u001b[0;36mmain\u001b[1;34m()\u001b[0m\n\u001b[0;32m     68\u001b[0m \u001b[1;32mdef\u001b[0m \u001b[0mmain\u001b[0m\u001b[1;33m(\u001b[0m\u001b[1;33m)\u001b[0m\u001b[1;33m:\u001b[0m\u001b[1;33m\u001b[0m\u001b[1;33m\u001b[0m\u001b[0m\n\u001b[0;32m     69\u001b[0m     \u001b[1;31m#for widen in range(1,5):\u001b[0m\u001b[1;33m\u001b[0m\u001b[1;33m\u001b[0m\u001b[1;33m\u001b[0m\u001b[0m\n\u001b[1;32m---> 70\u001b[1;33m         \u001b[0mhandle_title\u001b[0m\u001b[1;33m(\u001b[0m\u001b[1;36m1\u001b[0m\u001b[1;33m)\u001b[0m\u001b[1;33m\u001b[0m\u001b[1;33m\u001b[0m\u001b[0m\n\u001b[0m\u001b[0;32m     71\u001b[0m \u001b[1;33m\u001b[0m\u001b[0m\n\u001b[0;32m     72\u001b[0m \u001b[1;33m\u001b[0m\u001b[0m\n",
      "\u001b[1;32m<ipython-input-9-af8a14157341>\u001b[0m in \u001b[0;36mhandle_title\u001b[1;34m(widen)\u001b[0m\n\u001b[0;32m     61\u001b[0m         \u001b[0mtitle\u001b[0m\u001b[1;33m=\u001b[0m\u001b[0mvideo_data\u001b[0m\u001b[1;33m[\u001b[0m\u001b[1;34m'title'\u001b[0m\u001b[1;33m]\u001b[0m\u001b[1;33m\u001b[0m\u001b[1;33m\u001b[0m\u001b[0m\n\u001b[0;32m     62\u001b[0m         \u001b[0ma_href\u001b[0m\u001b[1;33m=\u001b[0m\u001b[1;34m'https://www.ixigua.com'\u001b[0m\u001b[1;33m+\u001b[0m\u001b[0mvideo_data\u001b[0m\u001b[1;33m[\u001b[0m\u001b[1;34m'source_url'\u001b[0m\u001b[1;33m]\u001b[0m\u001b[1;33m\u001b[0m\u001b[1;33m\u001b[0m\u001b[0m\n\u001b[1;32m---> 63\u001b[1;33m         \u001b[0mhandle_href\u001b[0m\u001b[1;33m(\u001b[0m\u001b[0ma_href\u001b[0m\u001b[1;33m,\u001b[0m\u001b[0mtitle\u001b[0m\u001b[1;33m)\u001b[0m\u001b[1;33m\u001b[0m\u001b[1;33m\u001b[0m\u001b[0m\n\u001b[0m\u001b[0;32m     64\u001b[0m \u001b[1;33m\u001b[0m\u001b[0m\n\u001b[0;32m     65\u001b[0m \u001b[1;33m\u001b[0m\u001b[0m\n",
      "\u001b[1;32m<ipython-input-9-af8a14157341>\u001b[0m in \u001b[0;36mhandle_href\u001b[1;34m(a_href, title)\u001b[0m\n\u001b[0;32m     14\u001b[0m \u001b[1;31m#   获取源码，生成soup对象，然后查找video里面的src属性\u001b[0m\u001b[1;33m\u001b[0m\u001b[1;33m\u001b[0m\u001b[1;33m\u001b[0m\u001b[0m\n\u001b[0;32m     15\u001b[0m     \u001b[0msoup\u001b[0m\u001b[1;33m=\u001b[0m\u001b[0mBeautifulSoup\u001b[0m\u001b[1;33m(\u001b[0m\u001b[0mbrowser\u001b[0m\u001b[1;33m.\u001b[0m\u001b[0mpage_source\u001b[0m\u001b[1;33m,\u001b[0m\u001b[1;34m'lxml'\u001b[0m\u001b[1;33m)\u001b[0m\u001b[1;33m\u001b[0m\u001b[1;33m\u001b[0m\u001b[0m\n\u001b[1;32m---> 16\u001b[1;33m     \u001b[0mvideo_src\u001b[0m\u001b[1;33m=\u001b[0m\u001b[0msoup\u001b[0m\u001b[1;33m.\u001b[0m\u001b[0mfind\u001b[0m\u001b[1;33m(\u001b[0m\u001b[1;34m'source'\u001b[0m\u001b[1;33m)\u001b[0m\u001b[1;33m[\u001b[0m\u001b[1;34m'src'\u001b[0m\u001b[1;33m]\u001b[0m\u001b[1;33m\u001b[0m\u001b[1;33m\u001b[0m\u001b[0m\n\u001b[0m\u001b[0;32m     17\u001b[0m \u001b[1;31m#    print(video_src)\u001b[0m\u001b[1;33m\u001b[0m\u001b[1;33m\u001b[0m\u001b[1;33m\u001b[0m\u001b[0m\n\u001b[0;32m     18\u001b[0m     \u001b[0mfilepath\u001b[0m\u001b[1;33m=\u001b[0m\u001b[1;34m'西瓜视频/'\u001b[0m\u001b[1;33m+\u001b[0m\u001b[0mtitle\u001b[0m\u001b[1;33m+\u001b[0m\u001b[1;34m'.mp4'\u001b[0m\u001b[1;33m\u001b[0m\u001b[1;33m\u001b[0m\u001b[0m\n",
      "\u001b[1;31mTypeError\u001b[0m: 'NoneType' object is not subscriptable"
     ]
    }
   ],
   "source": [
    "##动态加载问题\n",
    "\n",
    "\n",
    "\n",
    "#接口信息为：https://www.ixigua.com/api/pc/feed/?max_behot_time=1552384236&category=video_new&utm_source=toutiao&widen=1&tadrequire=true&as=A1956C88E799B86&cp=5C8729EBC8060E1&_signature=5ceqYBAYuUsWivctQ7obTeXHqn\n",
    "\n",
    "def handle_href(a_href,title):\n",
    "#由于在网站中没有找到相关的视频信息，我们只能通过phantomjs 或者 无头浏览器来进行爬取    \n",
    "    path=r'E:\\phantomjs-2.1.1-windows\\phantomjs-2.1.1-windows\\bin\\phantomjs.exe'\n",
    "    browser=webdriver.PhantomJS(path)\n",
    "    browser.get(a_href)\n",
    "    time.sleep(2)\n",
    "#   browser.save_screenshot(r'C:\\Users\\naive\\Anaconda3\\workingPath\\phantom___Pic\\video.png')\n",
    "#   获取源码，生成soup对象，然后查找video里面的src属性\n",
    "    soup=BeautifulSoup(browser.page_source,'lxml')\n",
    "    video_src=soup.find('source')['src']\n",
    "#    print(video_src)\n",
    "    filepath='西瓜视频/'+title+'.mp4'\n",
    "    \n",
    "    print('%s开始下载' % title)\n",
    "    r=requests.get(video_src)\n",
    "    with open(filepath,'wb') as fp:\n",
    "        fp.write(r.content)\n",
    "\n",
    "    \n",
    "    \n",
    "#     request=urllib.request.Request(a_href,headers=headers)\n",
    "#     response=urllib.request.urlopen(request)\n",
    "#     soup=BeautifulSoup(response.read().decode(),'lxml')\n",
    "#     print(soup)\n",
    "\n",
    "\n",
    "headers={\n",
    "    'Connection': 'keep-alive',\n",
    "    'Cache-Control': 'max-age=0',\n",
    "    'Upgrade-Insecure-Requests': '1',\n",
    "    'User-Agent': 'Mozilla/5.0 (Windows NT 10.0; WOW64) AppleWebKit/537.36 (KHTML, like Gecko) Chrome/63.0.3239.132 Safari/537.36',\n",
    "    'Accept': 'text/html,application/xhtml+xml,application/xml;q=0.9,image/webp,image/apng,*/*;q=0.8',\n",
    "    'Referer': 'https://www.ixigua.com/',\n",
    "    'Accept-Language': 'zh-CN,zh;q=0.9',\n",
    "    'Cookie': 'WEATHER_CITY=%E5%8C%97%E4%BA%AC; _ga=GA1.2.1168720228.1552349519; _gid=GA1.2.1546597514.1552349519; tt_webid=6667290326656615944; __tasessionId=rk77f9tp61552349520156'\n",
    "}\n",
    "\n",
    "\n",
    "def handle_title(widen):\n",
    "    #向接口发送信息，观察发现接口的widen参数不一样，向不同的widen接口发参数\n",
    "    url='https://www.ixigua.com/api/pc/feed/?max_behot_time=1552384236&category=video_new&utm_source=toutiao&widen={}&tadrequire=true&as=A1956C88E799B86&cp=5C8729EBC8060E1&_signature=5ceqYBAYuUsWivctQ7obTeXHqn'\n",
    "    #将widen和url拼接，组成完整的url\n",
    "    url=url.format(widen)\n",
    "    request=urllib.request.Request(url=url,headers=headers)\n",
    "    response=urllib.request.urlopen(request)\n",
    "    #r=requests.get(url=url,headers=headers)\n",
    "    #解析内容，返回的是json格式内容，所以不需要用bs、xpath\n",
    "    #通过分析，我们要接口里的title信息和sourceURL信息\n",
    "    #将json数据转化为Python对象\n",
    "    obj=json.loads(response.read().decode())\n",
    "    #取出所有和视频有关的数据\n",
    "    data=obj['data']\n",
    "    #循环data列表，并给出有关信息\n",
    "    for video_data in data:\n",
    "        title=video_data['title']\n",
    "        a_href='https://www.ixigua.com'+video_data['source_url']\n",
    "        handle_href(a_href,title)\n",
    "        \n",
    "\n",
    "\n",
    "\n",
    "def main():\n",
    "    #for widen in range(1,5):\n",
    "        handle_title(1)\n",
    "    \n",
    "    \n",
    "    \n",
    "if __name__=='__main__':\n",
    "    main()"
   ]
  }
 ],
 "metadata": {
  "kernelspec": {
   "display_name": "Python 3",
   "language": "python",
   "name": "python3"
  },
  "language_info": {
   "codemirror_mode": {
    "name": "ipython",
    "version": 3
   },
   "file_extension": ".py",
   "mimetype": "text/x-python",
   "name": "python",
   "nbconvert_exporter": "python",
   "pygments_lexer": "ipython3",
   "version": "3.7.1"
  }
 },
 "nbformat": 4,
 "nbformat_minor": 2
}
