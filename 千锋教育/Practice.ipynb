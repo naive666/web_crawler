{
 "cells": [
  {
   "cell_type": "code",
   "execution_count": 2,
   "metadata": {},
   "outputs": [],
   "source": [
    "import urllib.request\n",
    "import urllib.parse"
   ]
  },
  {
   "cell_type": "code",
   "execution_count": 4,
   "metadata": {},
   "outputs": [
    {
     "name": "stdout",
     "output_type": "stream",
     "text": [
      "[{\"rating\":[\"9.4\",\"50\"],\"rank\":1,\"cover_url\":\"https://img3.doubanio.com\\/view\\/photo\\/s_ratio_poster\\/public\\/p511118051.jpg\",\"is_playable\":true,\"id\":\"1295644\",\"types\":[\"剧情\",\"动作\",\"犯罪\"],\"regions\":[\"法国\"],\"title\":\"这个杀手不太冷\",\"url\":\"https:\\/\\/movie.douban.com\\/subject\\/1295644\\/\",\"release_date\":\"1994-09-14\",\"actor_count\":20,\"vote_count\":1219008,\"score\":\"9.4\",\"actors\":[\"让·雷诺\",\"娜塔莉·波特曼\",\"加里·奥德曼\",\"丹尼·爱罗\",\"彼得·阿佩尔\",\"迈克尔·巴达鲁科\",\"艾伦·格里尼\",\"伊丽莎白·瑞根\",\"卡尔·马图斯维奇\",\"弗兰克·赛格\",\"麦温\",\"乔治·马丁\",\"罗伯特·拉萨多\",\"亚当·布斯奇\",\"马里奥·托迪斯科\",\"萨米·纳塞利\",\"让·雨果·安格拉德\",\"埃莱娜·卡多纳\",\"大塚明夫\",\"沈晓谦\"],\"is_watched\":false},{\"rating\":[\"9.2\",\"50\"],\"rank\":2,\"cover_url\":\"https://img3.doubanio.com\\/view\\/photo\\/s_ratio_poster\\/public\\/p647099823.jpg\",\"is_playable\":true,\"id\":\"1295399\",\"types\":[\"动作\",\"冒险\",\"剧情\"],\"regions\":[\"日本\"],\"title\":\"七武士\",\"url\":\"https:\\/\\/movie.douban.com\\/subject\\/1295399\\/\",\"release_date\":\"1954-04-26\",\"actor_count\":20,\"vote_count\":99683,\"score\":\"9.2\",\"actors\":[\"三船敏郎\",\"志村乔\",\"稻叶义男\",\"宫口精二\",\"千秋实\",\"加东大介\",\"木村功\",\"本间文子\",\"小杉义男\",\"高木新平\",\"中岛春雄\",\"小川虎之助\",\"东野英治郎\",\"土屋嘉男\",\"高堂国典\",\"津岛惠子\",\"藤原釜足\",\"仲代达矢\",\"左卜全\",\"马野都留子\"],\"is_watched\":false},{\"rating\":[\"9.1\",\"45\"],\"rank\":3,\"cover_url\":\"https://img3.doubanio.com\\/view\\/photo\\/s_ratio_poster\\/public\\/p462657443.jpg\",\"is_playable\":true,\"id\":\"1851857\",\"types\":[\"剧情\",\"动作\",\"科幻\",\"犯罪\",\"惊悚\"],\"regions\":[\"美国\",\"英国\"],\"title\":\"蝙蝠侠：黑暗骑士\",\"url\":\"https:\\/\\/movie.douban.com\\/subject\\/1851857\\/\",\"release_date\":\"2008-07-14\",\"actor_count\":38,\"vote_count\":487630,\"score\":\"9.1\",\"actors\":[\"克里斯蒂安·贝尔\",\"希斯·莱杰\",\"艾伦·艾克哈特\",\"迈克尔·凯恩\",\"玛吉·吉伦哈尔\",\"加里·奥德曼\",\"摩根·弗里曼\",\"莫尼克·加布里埃拉·库尔内\",\"罗恩·迪恩\",\"基里安·墨菲\",\"黄经汉\",\"内斯特·卡博内尔\",\"埃里克·罗伯茨\",\"里特奇·科斯特\",\"安东尼·迈克尔·豪尔\",\"基斯·斯扎拉巴基克\",\"柯林·麦克法兰\",\"约书亚·哈尔托\",\"美琳达·麦格劳\",\"内森·甘宝\",\"迈克尔·维约\",\"迈克尔·斯托扬诺夫\",\"威廉·斯米利\",\"丹尼·高德林\",\"迈克尔·加·怀特\",\"马修·奥尼尔\",\"威廉·菲德内尔\",\"欧鲁米基·欧拉乌米\",\"格雷格·比姆\",\"爱利克·赫尔曼\",\"毕崔斯·罗森\",\"文森佐·尼克力\",\"陈冠希\",\"理查德·迪兰\",\"大卫·达斯马齐连\",\"罗南·萨莫尔斯\",\"利萨·麦克阿里斯特\",\"Adam Kalesperis\"],\"is_watched\":false},{\"rating\":[\"9.1\",\"45\"],\"rank\":4,\"cover_url\":\"https://img3.doubanio.com\\/view\\/photo\\/s_ratio_poster\\/public\\/p1910825503.jpg\",\"is_playable\":true,\"id\":\"1291552\",\"types\":[\"剧情\",\"动作\",\"奇幻\",\"冒险\"],\"regions\":[\"美国\",\"新西兰\"],\"title\":\"指环王3：王者无敌\",\"url\":\"https:\\/\\/movie.douban.com\\/subject\\/1291552\\/\",\"release_date\":\"2004-03-12\",\"actor_count\":38,\"vote_count\":387076,\"score\":\"9.1\",\"actors\":[\"维果·莫腾森\",\"伊莱贾·伍德\",\"西恩·奥斯汀\",\"丽芙·泰勒\",\"伊恩·麦克莱恩\",\"奥兰多·布鲁姆\",\"凯特·布兰切特\",\"米兰达·奥图\",\"安迪·瑟金斯\",\"雨果·维文\",\"多米尼克·莫纳汉\",\"比利·博伊德\",\"马尔顿·索克斯\",\"卡尔·厄本\",\"克里斯托弗·李\",\"约翰·瑞斯-戴维斯\",\"伊安·霍姆\",\"布雷特·麦肯齐\",\"萨德文·布罗菲\",\"彼得·杰克逊\",\"佩特·史密斯\",\"伯纳德·希尔\",\"Maisy McLeod-Riera\",\"乔尔·托贝克\",\"萨拉·贝克\",\"杰德·布罗菲\",\"姜广涛\",\"劳伦斯·马克奥雷\",\"张磊\",\"阿兰·霍华德\",\"约翰·贝西\",\"Noel Appleby\",\"Sarah McLeod\",\"肖恩·宾\",\"阿利斯泰尔·布朗宁\",\"大卫·文翰\",\"约翰·诺贝尔\",\"Harry Sinclair\"],\"is_watched\":false},{\"rating\":[\"9.0\",\"45\"],\"rank\":5,\"cover_url\":\"https://img1.doubanio.com\\/view\\/photo\\/s_ratio_poster\\/public\\/p1910926158.jpg\",\"is_playable\":false,\"id\":\"1292000\",\"types\":[\"剧情\",\"动作\",\"悬疑\",\"惊悚\"],\"regions\":[\"美国\",\"德国\"],\"title\":\"搏击俱乐部\",\"url\":\"https:\\/\\/movie.douban.com\\/subject\\/1292000\\/\",\"release_date\":\"1999-09-10\",\"actor_count\":29,\"vote_count\":500435,\"score\":\"9.0\",\"actors\":[\"爱德华·诺顿\",\"布拉德·皮特\",\"海伦娜·伯翰·卡特\",\"扎克·格雷尼尔\",\"米特·洛夫\",\"杰瑞德·莱托\",\"艾恩·贝利\",\"里奇蒙德·阿奎特 \",\"乔治·马奎尔\",\"鲍勃·斯蒂芬森\",\"Carl Ciarfalio\",\"斯图尔特·布拉姆博格\",\"马特·温斯顿\",\"劳伦·桑切斯\",\"迈克尔·肖姆斯·维尔斯\",\"保罗·卡拉夫特斯\",\"Scotch Ellis Loring\",\"大卫·安德鲁斯\",\"Andi Carnick\",\"Markus Redmond\",\"Eugenie Bondurant\",\"Tyrone R. Livingston\",\"Kevin Scott Mack\",\"Bennie Moore\",\"Evan Mirand\",\"乔伊·比索奈特\",\"Christina Cabot\",\"大卫·李·史密斯\",\"霍特·麦克卡兰尼\"],\"is_watched\":false},{\"rating\":[\"9.0\",\"45\"],\"rank\":6,\"cover_url\":\"https://img3.doubanio.com\\/view\\/photo\\/s_ratio_poster\\/public\\/p1354436051.jpg\",\"is_playable\":true,\"id\":\"1291571\",\"types\":[\"剧情\",\"动作\",\"奇幻\",\"冒险\"],\"regions\":[\"新西兰\",\"美国\"],\"title\":\"指环王1：魔戒再现\",\"url\":\"https:\\/\\/movie.douban.com\\/subject\\/1291571\\/\",\"release_date\":\"2002-04-04\",\"actor_count\":32,\"vote_count\":406919,\"score\":\"9.0\",\"actors\":[\"伊莱贾·伍德\",\"西恩·奥斯汀\",\"伊恩·麦克莱恩\",\"维果·莫腾森\",\"奥兰多·布鲁姆\",\"凯特·布兰切特\",\"肖恩·宾\",\"克里斯托弗·李\",\"雨果·维文\",\"丽芙·泰勒\",\"安迪·瑟金斯\",\"伊安·霍姆\",\"多米尼克·莫纳汉\",\"萨拉·贝克\",\"约翰·瑞斯-戴维斯\",\"卡梅伦·罗得\",\"Sarah McLeod\",\"大卫·韦瑟莱\",\"伊恩·穆内\",\"彼得·麦肯齐\",\"阿兰·霍华德\",\"姜广涛\",\"威廉·约翰逊\",\"张磊\",\"彼得·杰克逊\",\"马克·弗格森\",\"Harry Sinclair\",\"Noel Appleby\",\"比利·博伊德\",\"劳伦斯·马克奥雷\",\"克雷格·帕克\",\"马尔顿·索克斯\"],\"is_watched\":false},{\"rating\":[\"9.0\",\"45\"],\"rank\":7,\"cover_url\":\"https://img3.doubanio.com\\/view\\/photo\\/s_ratio_poster\\/public\\/p909265336.jpg\",\"is_playable\":true,\"id\":\"1291572\",\"types\":[\"剧情\",\"动作\",\"奇幻\",\"冒险\"],\"regions\":[\"美国\",\"新西兰\"],\"title\":\"指环王2：双塔奇兵\",\"url\":\"https:\\/\\/movie.douban.com\\/subject\\/1291572\\/\",\"release_date\":\"2003-04-25\",\"actor_count\":28,\"vote_count\":363308,\"score\":\"9.0\",\"actors\":[\"伊莱贾·伍德\",\"西恩·奥斯汀\",\"伊恩·麦克莱恩\",\"维果·莫腾森\",\"奥兰多·布鲁姆\",\"克里斯托弗·李\",\"丽芙·泰勒\",\"安迪·瑟金斯\",\"雨果·维文\",\"卡尔·厄本\",\"凯特·布兰切特\",\"多米尼克·莫纳汉\",\"大卫·文翰\",\"比利·博伊德\",\"布拉德·道里夫\",\"伯纳德·希尔\",\"约翰·瑞斯-戴维斯\",\"米兰达·奥图\",\"彼得·杰克逊\",\"肖恩·宾\",\"陆建艺\",\"姜广涛\",\"张磊\",\"杰德·布罗菲\",\"劳伦斯·马克奥雷\",\"克雷格·帕克\",\"约翰·诺贝尔\",\"丹·汉纳\"],\"is_watched\":false},{\"rating\":[\"9.0\",\"45\"],\"rank\":8,\"cover_url\":\"https://img3.doubanio.com\\/view\\/photo\\/s_ratio_poster\\/public\\/p2248676081.jpg\",\"is_playable\":true,\"id\":\"1292778\",\"types\":[\"剧情\",\"喜剧\",\"动作\",\"战争\",\"冒险\"],\"regions\":[\"美国\"],\"title\":\"将军号\",\"url\":\"https:\\/\\/movie.douban.com\\/subject\\/1292778\\/\",\"release_date\":\"1926-12-31\",\"actor_count\":12,\"vote_count\":10605,\"score\":\"9.0\",\"actors\":[\"巴斯特·基顿\",\"玛丽昂·马克\",\"格伦·卡文德\",\"吉姆·法利\",\"弗雷德里克·弗鲁姆\",\"查尔斯·亨利·史密斯\",\"弗兰克·巴恩斯\",\"乔·基顿\",\"麦克·多林\",\"汤姆·纳恩\",\"波利斯·卡洛夫\",\"安东尼·哈维\"],\"is_watched\":false},{\"rating\":[\"8.9\",\"45\"],\"rank\":9,\"cover_url\":\"https://img1.doubanio.com\\/view\\/photo\\/s_ratio_poster\\/public\\/p451926968.jpg\",\"is_playable\":true,\"id\":\"1291843\",\"types\":[\"动作\",\"科幻\"],\"regions\":[\"美国\",\"澳大利亚\"],\"title\":\"黑客帝国\",\"url\":\"https:\\/\\/movie.douban.com\\/subject\\/1291843\\/\",\"release_date\":\"1999-03-31\",\"actor_count\":19,\"vote_count\":386682,\"score\":\"8.9\",\"actors\":[\"基努·里维斯\",\"凯瑞-安·莫斯\",\"劳伦斯·菲什伯恩\",\"雨果·维文\",\"格洛丽亚·福斯特\",\"乔·潘托里亚诺\",\"马库斯·钟\",\"朱利安·阿拉汗加\",\"马特·多兰\",\"比尔·扬\",\"罗温·维特\",\"童自荣\",\"沈晓谦\",\"户田惠子\",\"阿达·尼科德莫\",\"安东尼雷派克\",\"罗伯特·泰勒\",\"Belinda McClory\",\"张磊\"],\"is_watched\":false},{\"rating\":[\"8.9\",\"45\"],\"rank\":10,\"cover_url\":\"https://img3.doubanio.com\\/view\\/photo\\/s_ratio_poster\\/public\\/p1910922395.jpg\",\"is_playable\":false,\"id\":\"1291936\",\"types\":[\"动作\",\"科幻\",\"动画\"],\"regions\":[\"日本\"],\"title\":\"攻壳机动队\",\"url\":\"https:\\/\\/movie.douban.com\\/subject\\/1291936\\/\",\"release_date\":\"1995-11-18\",\"actor_count\":12,\"vote_count\":75048,\"score\":\"8.9\",\"actors\":[\"田中敦子\",\"大塚明夫\",\"山寺宏一\",\"大木民夫\",\"家弓家正\",\"玄田哲章\",\"山内雅人\",\"小川真司\",\"布莱恩·科兰斯顿\",\"佐藤政道\",\"Lia Sargent\",\"小高三良\"],\"is_watched\":false}]\n"
     ]
    }
   ],
   "source": [
    "url='https://movie.douban.com/j/chart/top_list?type=5&interval_id=100%3A90&action=&'\n",
    "headers={\n",
    "    'user_agent':'Mozilla/5.0 (Windows NT 10.0; Win64; x64) AppleWebKit/537.36 (KHTML, like Gecko) Chrome/64.0.3282.140 Safari/537.36 Edge/17.17134'\n",
    "}\n",
    "data={\n",
    "    'start':0,\n",
    "    'limit':10,\n",
    "}\n",
    "query_string=urllib.parse.urlencode(data)\n",
    "url+=query_string\n",
    "\n",
    "request=urllib.request.Request(url=url,headers=headers)\n",
    "response=urllib.request.urlopen(request)\n",
    "\n",
    "print(response.read().decode())"
   ]
  }
 ],
 "metadata": {
  "kernelspec": {
   "display_name": "Python 3",
   "language": "python",
   "name": "python3"
  },
  "language_info": {
   "codemirror_mode": {
    "name": "ipython",
    "version": 3
   },
   "file_extension": ".py",
   "mimetype": "text/x-python",
   "name": "python",
   "nbconvert_exporter": "python",
   "pygments_lexer": "ipython3",
   "version": "3.7.1"
  }
 },
 "nbformat": 4,
 "nbformat_minor": 2
}
