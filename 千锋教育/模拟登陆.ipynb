{
 "cells": [
  {
   "cell_type": "code",
   "execution_count": 14,
   "metadata": {},
   "outputs": [],
   "source": [
    "import urllib.request\n",
    "import urllib.parse\n",
    "import http.cookiejar"
   ]
  },
  {
   "cell_type": "code",
   "execution_count": 19,
   "metadata": {},
   "outputs": [],
   "source": [
    "cj=http.cookiejar.CookieJar()\n",
    "handler=urllib.request.HTTPCookieProcessor(cj)\n",
    "opener=urllib.request.build_opener(handler)\n",
    "\n",
    "url='https://accounts.douban.com/j/mobile/login/basic'\n",
    "form_data={\n",
    "    'ck':'',\n",
    "    'name':'zhang_huanming@126.com',\n",
    "    'password':'1689972100zhm',\n",
    "    'remember':'false',\n",
    "    'ticket':'',\n",
    "}\n",
    "\n",
    "headers={\n",
    "    'user_agent':'Mozilla/5.0 (Windows NT 10.0; Win64; x64) AppleWebKit/537.36 (KHTML, like Gecko) Chrome/64.0.3282.140 Safari/537.36 Edge/17.17134',\n",
    "    'Cookie': 'll=\"118163\"; bid=2EPPzB_GBgA; __utmz=30149280.1551007586.2.2.utmcsr=douban.com|utmccn=(referral)|utmcmd=referral|utmcct=/; __utma=30149280.618712875.1550927847.1551007586.1551181502.3; __utmc=30149280; __utmt=1; __utmb=30149280.1.10.1551181502; login_start_time=1551181511642',\n",
    "    'Host': 'accounts.douban.com',\n",
    "    'Connection': 'keep-alive',\n",
    "    'Content-Length': '79',\n",
    "    'Accept': 'application/json',\n",
    "    'Origin': 'https://accounts.douban.com',\n",
    "    'X-Requested-With': 'XMLHttpRequest',\n",
    "    'Content-Type': 'application/x-www-form-urlencoded',\n",
    "    'Referer': 'https://accounts.douban.com/passport/login_popup?login_source=anony',\n",
    "    'Accept-Language': 'zh-CN,zh;q=0.9',\n",
    "\n",
    "}\n",
    "\n",
    "\n",
    "formdata=urllib.parse.urlencode(form_data).encode()\n",
    "request=urllib.request.Request(url=url,headers=headers)\n",
    "response=opener.open(request,data=formdata)\n",
    "with open(\"douban.html\",'wb') as fp:\n",
    "    fp.write(response.read())\n"
   ]
  }
 ],
 "metadata": {
  "kernelspec": {
   "display_name": "Python 3",
   "language": "python",
   "name": "python3"
  },
  "language_info": {
   "codemirror_mode": {
    "name": "ipython",
    "version": 3
   },
   "file_extension": ".py",
   "mimetype": "text/x-python",
   "name": "python",
   "nbconvert_exporter": "python",
   "pygments_lexer": "ipython3",
   "version": "3.7.1"
  }
 },
 "nbformat": 4,
 "nbformat_minor": 2
}
