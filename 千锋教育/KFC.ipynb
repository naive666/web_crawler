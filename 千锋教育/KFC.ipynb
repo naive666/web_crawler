{
 "cells": [
  {
   "cell_type": "code",
   "execution_count": 2,
   "metadata": {},
   "outputs": [],
   "source": [
    "import urllib.request\n",
    "import urllib.parse"
   ]
  },
  {
   "cell_type": "code",
   "execution_count": 9,
   "metadata": {},
   "outputs": [
    {
     "name": "stdout",
     "output_type": "stream",
     "text": [
      "Please enter your city苏州\n",
      "Please enter the page index2\n",
      "Please enter the page size20\n",
      "{\"Table\":[{\"rowcount\":203}],\"Table1\":[{\"rownum\":21,\"storeName\":\"汽车北站\",\"addressDetail\":\"西汇路29号汽车客运站2层\",\"pro\":\"礼品卡\",\"provinceName\":\"江苏省\",\"cityName\":\"苏州市\"},{\"rownum\":22,\"storeName\":\"昆山千灯\",\"addressDetail\":\"昆山市千灯镇尚书路8号千灯大润发一层\",\"pro\":\"礼品卡\",\"provinceName\":\"江苏省\",\"cityName\":\"苏州市\"},{\"rownum\":23,\"storeName\":\"吴江运东\",\"addressDetail\":\"吴江经济开发区运东大道东侧江南奥斯卡5幢1层\",\"pro\":\"礼品卡\",\"provinceName\":\"江苏省\",\"cityName\":\"苏州市\"},{\"rownum\":24,\"storeName\":\"昆山世贸\",\"addressDetail\":\"昆山市前进路中山路交汇处中茵世贸广场\",\"pro\":\"礼品卡\",\"provinceName\":\"江苏省\",\"cityName\":\"苏州市\"},{\"rownum\":25,\"storeName\":\"黄埭\",\"addressDetail\":\"相城区黄埭镇康阳路西136号\",\"pro\":\"礼品卡\",\"provinceName\":\"江苏省\",\"cityName\":\"苏州市\"},{\"rownum\":26,\"storeName\":\"盛泽西环路\",\"addressDetail\":\"吴江市盛泽镇西环路西侧欧尚超一层\",\"pro\":\"礼品卡\",\"provinceName\":\"江苏省\",\"cityName\":\"苏州市\"},{\"rownum\":27,\"storeName\":\"吴江车站\",\"addressDetail\":\"吴江市经济开发区二二七省道西、学院路东侧吴江汽车站内一层\",\"pro\":\"礼品卡\",\"provinceName\":\"江苏省\",\"cityName\":\"苏州市\"},{\"rownum\":28,\"storeName\":\"园区星塘街\",\"addressDetail\":\"工业园区淞江路18号欧尚商业中心1栋1层1006号\",\"pro\":\"礼品卡\",\"provinceName\":\"江苏省\",\"cityName\":\"苏州市\"},{\"rownum\":29,\"storeName\":\"吴中香雪海\",\"addressDetail\":\"吴中区吴中大道168号香学海购物广场一楼\",\"pro\":\"礼品卡\",\"provinceName\":\"江苏省\",\"cityName\":\"苏州市\"},{\"rownum\":30,\"storeName\":\"昆山周市镇春晖路\",\"addressDetail\":\"昆山市周市镇春晖路758号望族商城一层\",\"pro\":\"礼品卡\",\"provinceName\":\"江苏省\",\"cityName\":\"苏州市\"},{\"rownum\":31,\"storeName\":\"星海街\",\"addressDetail\":\"工业园区星海街199号星海生活广场北区负一楼B115\",\"pro\":\"礼品卡\",\"provinceName\":\"江苏省\",\"cityName\":\"苏州市\"},{\"rownum\":32,\"storeName\":\"新石路国际\",\"addressDetail\":\"石路18号石路国际商厦负一层\",\"pro\":\"礼品卡\",\"provinceName\":\"江苏省\",\"cityName\":\"苏州市\"},{\"rownum\":33,\"storeName\":\"学府\",\"addressDetail\":\"高新区（科锐路东学新路南学府路北）汇金商业广场11幢\",\"pro\":\"礼品卡\",\"provinceName\":\"江苏省\",\"cityName\":\"苏州市\"},{\"rownum\":34,\"storeName\":\"广济南路\",\"addressDetail\":\"金阊区广济南路19号大润发一层\",\"pro\":\"礼品卡\",\"provinceName\":\"江苏省\",\"cityName\":\"苏州市\"},{\"rownum\":35,\"storeName\":\"吴江汾湖\",\"addressDetail\":\"吴江市汾湖镇杭州路北侧TESCO乐购超一层\",\"pro\":\"礼品卡\",\"provinceName\":\"江苏省\",\"cityName\":\"苏州市\"},{\"rownum\":36,\"storeName\":\"渭塘\",\"addressDetail\":\"相城区渭塘镇渭星街288号2幢104室一层、二层，105室一层、二层\",\"pro\":\"礼品卡\",\"provinceName\":\"江苏省\",\"cityName\":\"苏州市\"},{\"rownum\":37,\"storeName\":\"相城玛特\",\"addressDetail\":\"相城区元和街道华元路918号101室一层\",\"pro\":\"礼品卡\",\"provinceName\":\"江苏省\",\"cityName\":\"苏州市\"},{\"rownum\":38,\"storeName\":\"吴中车站\",\"addressDetail\":\"吴中经济开发区广建路10号苏州吴中汽车客运站一二层\",\"pro\":\"礼品卡\",\"provinceName\":\"江苏省\",\"cityName\":\"苏州市\"},{\"rownum\":39,\"storeName\":\"金港润发\",\"addressDetail\":\"张家港市金港镇黄泗浦西路1号大润发超市内肯德基餐厅\",\"pro\":\"礼品卡\",\"provinceName\":\"江苏省\",\"cityName\":\"苏州市\"},{\"rownum\":40,\"storeName\":\"园区玲珑\",\"addressDetail\":\"工业园区玲珑街58号1栋101\",\"pro\":\"礼品卡\",\"provinceName\":\"江苏省\",\"cityName\":\"苏州市\"}]}\n"
     ]
    }
   ],
   "source": [
    "url_post='http://www.kfc.com.cn/kfccda/ashx/GetStoreList.ashx?op=cname'\n",
    "city=input('Please enter your city')\n",
    "\n",
    "page_index=input('Please enter the page index')\n",
    "page_size=input('Please enter the page size')\n",
    "\n",
    "\n",
    "form_data={\n",
    "    'cname':city,\n",
    "    'pid':'',\n",
    "    'pageIndex':page_index,\n",
    "    'pageSize':page_size,\n",
    "}\n",
    "headers={\n",
    "    'user_agent':'Mozilla/5.0 (Windows NT 10.0; Win64; x64) AppleWebKit/537.36 (KHTML, like Gecko) Chrome/64.0.3282.140 Safari/537.36 Edge/17.17134',\n",
    "}\n",
    "\n",
    "formdata=urllib.parse.urlencode(form_data).encode()\n",
    "\n",
    "\n",
    "request=urllib.request.Request(url=url_post,headers=headers)\n",
    "response=urllib.request.urlopen(request,data=formdata)\n",
    "\n",
    "print(response.read().decode())\n"
   ]
  }
 ],
 "metadata": {
  "kernelspec": {
   "display_name": "Python 3",
   "language": "python",
   "name": "python3"
  },
  "language_info": {
   "codemirror_mode": {
    "name": "ipython",
    "version": 3
   },
   "file_extension": ".py",
   "mimetype": "text/x-python",
   "name": "python",
   "nbconvert_exporter": "python",
   "pygments_lexer": "ipython3",
   "version": "3.7.1"
  }
 },
 "nbformat": 4,
 "nbformat_minor": 2
}
