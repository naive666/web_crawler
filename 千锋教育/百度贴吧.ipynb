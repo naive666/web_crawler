{
 "cells": [
  {
   "cell_type": "code",
   "execution_count": 3,
   "metadata": {},
   "outputs": [],
   "source": [
    "import urllib.request\n",
    "import urllib.parse\n",
    "import os"
   ]
  },
  {
   "cell_type": "code",
   "execution_count": 7,
   "metadata": {},
   "outputs": [
    {
     "name": "stdout",
     "output_type": "stream",
     "text": [
      "Please enter the TieBa name张国荣\n",
      "Please enter the start page number1\n",
      "Please enter the end page6\n"
     ]
    }
   ],
   "source": [
    "url='http://tieba.baidu.com/f?'\n",
    "ba_name=input('Please enter the TieBa name')\n",
    "ie='utf-8'\n",
    "start_page=int(input(\"Please enter the start page number\"))\n",
    "end_page=int(input('Please enter the end page'))\n",
    "os.mkdir(ba_name)\n",
    "\n",
    "if not os.path.exists(ba_name):\n",
    "        os.mkdir(ba_name)\n",
    "\n",
    "for i in range(start_page,end_page):\n",
    "    \n",
    "    data={\n",
    "    'kw':ba_name,\n",
    "    'ie':ie,\n",
    "    'pn':(i-1)*50,\n",
    "}\n",
    "    headers={\n",
    "    'user_agent':'Mozilla/5.0 (Windows NT 10.0; Win64; x64) AppleWebKit/537.36 (KHTML, like Gecko) Chrome/64.0.3282.140 Safari/537.36 Edge/17.17134',\n",
    "}\n",
    "    query_string=urllib.parse.urlencode(data)\n",
    "    my_url=url+query_string\n",
    "    request=urllib.request.Request(url=my_url,headers=headers)\n",
    "    response=urllib.request.urlopen(request)\n",
    "    file_name=ba_name+'_'+str(i)+'.html'\n",
    "    filepath=ba_name+'/'+file_name\n",
    "    \n",
    "    with open(filepath,'wb') as fp:\n",
    "        fp.write(response.read())\n",
    "    \n",
    "    "
   ]
  }
 ],
 "metadata": {
  "kernelspec": {
   "display_name": "Python 3",
   "language": "python",
   "name": "python3"
  },
  "language_info": {
   "codemirror_mode": {
    "name": "ipython",
    "version": 3
   },
   "file_extension": ".py",
   "mimetype": "text/x-python",
   "name": "python",
   "nbconvert_exporter": "python",
   "pygments_lexer": "ipython3",
   "version": "3.7.1"
  }
 },
 "nbformat": 4,
 "nbformat_minor": 2
}
