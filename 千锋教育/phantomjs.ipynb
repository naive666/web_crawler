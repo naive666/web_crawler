{
 "cells": [
  {
   "cell_type": "code",
   "execution_count": 2,
   "metadata": {},
   "outputs": [],
   "source": [
    "import time\n",
    "from selenium import webdriver"
   ]
  },
  {
   "cell_type": "code",
   "execution_count": 7,
   "metadata": {},
   "outputs": [],
   "source": [
    "path=r'E:\\phantomjs-2.1.1-windows\\phantomjs-2.1.1-windows\\bin\\phantomjs.exe'\n",
    "browser=webdriver.PhantomJS(path)\n",
    "url='https://movie.douban.com/'\n",
    "browser.get(url)\n",
    "time.sleep(1)\n",
    "browser.save_screenshot(r'phantom___Pic\\douban1.png')\n",
    "js='document.body.scrollTop=10000'\n",
    "browser.execute_script(js)\n",
    "time.sleep(1)\n",
    "browser.save_screenshot(r'phantom__Pic\\douban2.png')\n",
    "html=browser.page_source\n",
    "with open(r'phantom___Pic\\douban.html','w',encoding='utf8') as fp:\n",
    "    fp.write(html)\n",
    "    \n",
    "browser.quit()"
   ]
  }
 ],
 "metadata": {
  "kernelspec": {
   "display_name": "Python 3",
   "language": "python",
   "name": "python3"
  },
  "language_info": {
   "codemirror_mode": {
    "name": "ipython",
    "version": 3
   },
   "file_extension": ".py",
   "mimetype": "text/x-python",
   "name": "python",
   "nbconvert_exporter": "python",
   "pygments_lexer": "ipython3",
   "version": "3.7.1"
  }
 },
 "nbformat": 4,
 "nbformat_minor": 2
}
