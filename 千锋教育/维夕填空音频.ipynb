{
 "cells": [
  {
   "cell_type": "code",
   "execution_count": 3,
   "metadata": {},
   "outputs": [],
   "source": [
    "import urllib.parse\n",
    "import urllib.request\n",
    "import time\n",
    "import requests\n",
    "from bs4 import BeautifulSoup "
   ]
  },
  {
   "cell_type": "code",
   "execution_count": 18,
   "metadata": {},
   "outputs": [],
   "source": [
    "headers={\n",
    "    'User-Agent': 'Mozilla/5.0 (Windows NT 10.0; Win64; x64) AppleWebKit/537.36 (KHTML, like Gecko) Chrome/64.0.3282.140 Safari/537.36 Edge/17.17134'\n",
    "}\n",
    "\n",
    "def get_request(i):\n",
    "    url='http://photo.vcloveedu.com/upload/audio/'\n",
    "    url=url+str(34+i)+'.2.'+str(1+i)+'.mp3'\n",
    "    request=urllib.request.Request(url=url,headers=headers)\n",
    "    response=urllib.request.urlopen(request)\n",
    "    oripath=r'C:\\Users\\naive\\Anaconda3\\workingPath\\维夕音频_官方填空ex2'\n",
    "    filename='\\音频'+str(i)+'.mp3'\n",
    "    filepath=oripath+filename\n",
    "    urllib.request.urlretrieve(url,filepath)\n",
    "\n",
    "\n",
    "\n",
    "def main():\n",
    "    for i in range(8):\n",
    "        get_request(i)\n",
    "    \n",
    "    \n",
    "    \n",
    "    \n",
    "    \n",
    "    \n",
    "if __name__=='__main__':\n",
    "    main()"
   ]
  }
 ],
 "metadata": {
  "kernelspec": {
   "display_name": "Python 3",
   "language": "python",
   "name": "python3"
  },
  "language_info": {
   "codemirror_mode": {
    "name": "ipython",
    "version": 3
   },
   "file_extension": ".py",
   "mimetype": "text/x-python",
   "name": "python",
   "nbconvert_exporter": "python",
   "pygments_lexer": "ipython3",
   "version": "3.7.1"
  }
 },
 "nbformat": 4,
 "nbformat_minor": 2
}
