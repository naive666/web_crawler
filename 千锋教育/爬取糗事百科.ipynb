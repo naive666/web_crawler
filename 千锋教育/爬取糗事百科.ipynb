{
 "cells": [
  {
   "cell_type": "code",
   "execution_count": 1,
   "metadata": {},
   "outputs": [],
   "source": [
    "import urllib.request\n",
    "import urllib.parse\n",
    "import re\n",
    "import os\n",
    "import time"
   ]
  },
  {
   "cell_type": "code",
   "execution_count": 21,
   "metadata": {},
   "outputs": [
    {
     "name": "stdout",
     "output_type": "stream",
     "text": [
      "Please enter the start page:1\n",
      "Please enter the end page:3\n",
      "https://www.qiushibaike.com/pic/page/page/1/?s=5171220\n",
      "https://www.qiushibaike.com/pic/page/page/2/?s=5171220\n",
      "https://www.qiushibaike.com/pic/page/page/3/?s=5171220\n"
     ]
    }
   ],
   "source": [
    "def hand_request(url,page):\n",
    "    page=str(page)\n",
    "    url=url+'page/'+page+'/?s=5171220'\n",
    "    print(url)\n",
    "    headers={'User_Agent':'Mozilla/5.0 (Windows NT 10.0; Win64; x64) AppleWebKit/537.36 (KHTML, like Gecko) Chrome/64.0.3282.140 Safari/537.36 Edge/17.17134'}\n",
    "    request=urllib.request.Request(url=url,headers=headers)\n",
    "    return request\n",
    "\n",
    "\n",
    "def main():\n",
    "    url='https://www.qiushibaike.com/pic/page/'\n",
    "    start_page=int(input('Please enter the start page:'))\n",
    "    end_page=int(input('Please enter the end page:'))\n",
    "    for page in range(start_page,end_page+1):\n",
    "        request=hand_request(url,page)\n",
    "       # content=urllib.request.urlopen(request)\n",
    "        #print(content.read().decode())\n",
    "        time.sleep(2)\n",
    "    \n",
    "if __name__ == '__main__':\n",
    "      main()"
   ]
  }
 ],
 "metadata": {
  "kernelspec": {
   "display_name": "Python 3",
   "language": "python",
   "name": "python3"
  },
  "language_info": {
   "codemirror_mode": {
    "name": "ipython",
    "version": 3
   },
   "file_extension": ".py",
   "mimetype": "text/x-python",
   "name": "python",
   "nbconvert_exporter": "python",
   "pygments_lexer": "ipython3",
   "version": "3.7.1"
  }
 },
 "nbformat": 4,
 "nbformat_minor": 2
}
